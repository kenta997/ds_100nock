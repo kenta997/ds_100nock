{
 "cells": [
  {
   "cell_type": "markdown",
   "metadata": {},
   "source": [
    "# ファイルのダウンロード"
   ]
  },
  {
   "cell_type": "code",
   "execution_count": 1,
   "metadata": {},
   "outputs": [],
   "source": [
    "# ライブラリのインポート\n",
    "import os"
   ]
  },
  {
   "cell_type": "code",
   "execution_count": 2,
   "metadata": {},
   "outputs": [],
   "source": [
    "# wgetを使用してダウンロード\n",
    "path = \"../data/\"\n",
    "\n",
    "if not os.path.exists(path + \"sample_100knocks.zip\"):\n",
    "    !wget https://www.shuwasystem.co.jp/support/download/5875/sample_100knocks.zip -P $path"
   ]
  },
  {
   "cell_type": "code",
   "execution_count": 3,
   "metadata": {},
   "outputs": [
    {
     "name": "stdout",
     "output_type": "stream",
     "text": [
      "Archive:  ../data/sample_100knocks.zip\n",
      "  inflating: ../data/サンプルコード_20201021/10章/10章_アンケート分析を行うための言語処理１０本ノック.ipynb  \n",
      "  inflating: ../data/サンプルコード_20201021/10章/10章_アンケート分析を行うための言語処理１０本ノック_answer.ipynb  \n",
      "  inflating: ../data/サンプルコード_20201021/10章/survey.csv  \n",
      "  inflating: ../data/サンプルコード_20201021/1章/1章_ウェブからの注文数を分析する１０本ノック.ipynb  \n",
      "  inflating: ../data/サンプルコード_20201021/1章/1章_ウェブからの注文数を分析する１０本ノック_answer.ipynb  \n",
      "  inflating: ../data/サンプルコード_20201021/1章/customer_master.csv  \n",
      "  inflating: ../data/サンプルコード_20201021/1章/item_master.csv  \n",
      "  inflating: ../data/サンプルコード_20201021/1章/transaction_1.csv  \n",
      "  inflating: ../data/サンプルコード_20201021/1章/transaction_2.csv  \n",
      "  inflating: ../data/サンプルコード_20201021/1章/transaction_detail_1.csv  \n",
      "  inflating: ../data/サンプルコード_20201021/1章/transaction_detail_2.csv  \n",
      "  inflating: ../data/サンプルコード_20201021/2章/2章_小売店のデータでデータ加工を行う10本ノック.ipynb  \n",
      "  inflating: ../data/サンプルコード_20201021/2章/2章_小売店のデータでデータ加工を行う10本ノック_answer.ipynb  \n",
      "  inflating: ../data/サンプルコード_20201021/2章/dump_data.csv  \n",
      "  inflating: ../data/サンプルコード_20201021/2章/kokyaku_daicho.xlsx  \n",
      "  inflating: ../data/サンプルコード_20201021/2章/uriage.csv  \n",
      "  inflating: ../data/サンプルコード_20201021/3章/3章_顧客の全体像を把握する１０本ノック.ipynb  \n",
      "  inflating: ../data/サンプルコード_20201021/3章/3章_顧客の全体像を把握する１０本ノック_answer.ipynb  \n",
      " extracting: ../data/サンプルコード_20201021/3章/campaign_master.csv  \n",
      "  inflating: ../data/サンプルコード_20201021/3章/class_master.csv  \n",
      "  inflating: ../data/サンプルコード_20201021/3章/customer_master.csv  \n",
      "  inflating: ../data/サンプルコード_20201021/3章/use_log.csv  \n",
      "  inflating: ../data/サンプルコード_20201021/4章/4章_顧客の行動を予測する１０本ノック.ipynb  \n",
      "  inflating: ../data/サンプルコード_20201021/4章/4章_顧客の行動を予測する１０本ノック_answer.ipynb  \n",
      "  inflating: ../data/サンプルコード_20201021/4章/customer_join.csv  \n",
      "  inflating: ../data/サンプルコード_20201021/4章/use_log.csv  \n",
      "  inflating: ../data/サンプルコード_20201021/5章/5章_顧客の退会を予測する１０本ノック.ipynb  \n",
      "  inflating: ../data/サンプルコード_20201021/5章/5章_顧客の退会を予測する１０本ノック_answer.ipynb  \n",
      "  inflating: ../data/サンプルコード_20201021/5章/customer_join.csv  \n",
      "  inflating: ../data/サンプルコード_20201021/5章/use_log_months.csv  \n",
      "  inflating: ../data/サンプルコード_20201021/6章/6章_物流の最適ルートをコンサルティングする１０本ノック.ipynb  \n",
      "  inflating: ../data/サンプルコード_20201021/6章/6章_物流の最適ルートをコンサルティングする１０本ノック_answer.ipynb  \n",
      " extracting: ../data/サンプルコード_20201021/6章/demand.csv  \n",
      " extracting: ../data/サンプルコード_20201021/6章/network_pos.csv  \n",
      "  inflating: ../data/サンプルコード_20201021/6章/network_weight.csv  \n",
      "  inflating: ../data/サンプルコード_20201021/6章/rel_cost.csv  \n",
      " extracting: ../data/サンプルコード_20201021/6章/supply.csv  \n",
      "  inflating: ../data/サンプルコード_20201021/6章/tbl_factory.csv  \n",
      "  inflating: ../data/サンプルコード_20201021/6章/tbl_transaction.csv  \n",
      "  inflating: ../data/サンプルコード_20201021/6章/tbl_warehouse.csv  \n",
      "  inflating: ../data/サンプルコード_20201021/6章/trans_cost.csv  \n",
      "  inflating: ../data/サンプルコード_20201021/6章/trans_route.csv  \n",
      "  inflating: ../data/サンプルコード_20201021/6章/trans_route_new.csv  \n",
      "  inflating: ../data/サンプルコード_20201021/6章/trans_route_pos.csv  \n",
      "  inflating: ../data/サンプルコード_20201021/7章/7章 ロジスティクスネットワークの最適設計を行う10本ノック.ipynb  \n",
      "  inflating: ../data/サンプルコード_20201021/7章/7章 ロジスティクスネットワークの最適設計を行う10本ノック_answer.ipynb  \n",
      " extracting: ../data/サンプルコード_20201021/7章/demand.csv  \n",
      " extracting: ../data/サンプルコード_20201021/7章/product_plan.csv  \n",
      "  inflating: ../data/サンプルコード_20201021/7章/product_plan_material.csv  \n",
      " extracting: ../data/サンプルコード_20201021/7章/product_plan_profit.csv  \n",
      " extracting: ../data/サンプルコード_20201021/7章/product_plan_stock.csv  \n",
      " extracting: ../data/サンプルコード_20201021/7章/supply.csv  \n",
      "  inflating: ../data/サンプルコード_20201021/7章/trans_cost.csv  \n",
      "  inflating: ../data/サンプルコード_20201021/7章/trans_route_pos.csv  \n",
      "  inflating: ../data/サンプルコード_20201021/8章/8章_数値シミュレーションで消費者行動を予測する10本ノック.ipynb  \n",
      "  inflating: ../data/サンプルコード_20201021/8章/8章_数値シミュレーションで消費者行動を予測する10本ノック_answer.ipynb  \n",
      "  inflating: ../data/サンプルコード_20201021/8章/info_members.csv  \n",
      "  inflating: ../data/サンプルコード_20201021/8章/links.csv  \n",
      "  inflating: ../data/サンプルコード_20201021/8章/links_members.csv  \n",
      "  inflating: ../data/サンプルコード_20201021/9章/9章 潜在顧客を把握するための画像認識１０本.ipynb  \n",
      "  inflating: ../data/サンプルコード_20201021/9章/9章 潜在顧客を把握するための画像認識１０本_answer.ipynb  \n",
      "  inflating: ../data/サンプルコード_20201021/9章/haarcascade_frontalface_alt.xml  \n",
      "  inflating: ../data/サンプルコード_20201021/9章/img/img01.jpg  \n",
      " extracting: ../data/サンプルコード_20201021/9章/img/img02.jpg  \n",
      "  inflating: ../data/サンプルコード_20201021/9章/mov/mov01.avi  \n",
      "  inflating: ../data/サンプルコード_20201021/9章/mov/mov02.avi  \n",
      "  inflating: ../data/サンプルコード_20201021/9章/shape_predictor_68_face_landmarks.dat  \n",
      "サンプルコード_20201021/はじめに.txt:  mismatching \"local\" filename (繧ｵ繝ｳ繝励Ν繧ｳ繝ｼ繝雲20201021/縺ｯ縺励ｙ繧√↓.txt),\n",
      "         continuing with \"central\" filename version\n",
      "  inflating: ../data/サンプルコード_20201021/はじめに.txt  \n"
     ]
    }
   ],
   "source": [
    "# 解凍\n",
    "d = path\n",
    "path = d + \"sample_100knocks.zip\"\n",
    "!unzip -n -O sjis -d $d $path"
   ]
  }
 ],
 "metadata": {
  "kernelspec": {
   "display_name": "Python 3",
   "language": "python",
   "name": "python3"
  },
  "language_info": {
   "codemirror_mode": {
    "name": "ipython",
    "version": 3
   },
   "file_extension": ".py",
   "mimetype": "text/x-python",
   "name": "python",
   "nbconvert_exporter": "python",
   "pygments_lexer": "ipython3",
   "version": "3.8.5"
  }
 },
 "nbformat": 4,
 "nbformat_minor": 4
}
